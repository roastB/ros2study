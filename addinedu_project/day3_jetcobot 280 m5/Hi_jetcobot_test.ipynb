{
 "cells": [
  {
   "cell_type": "code",
   "execution_count": null,
   "id": "a46821b9-34d7-4bf7-90d0-3c5b90f1c47a",
   "metadata": {},
   "outputs": [],
   "source": [
    "import os\n",
    "import time\n",
    "import threading\n",
    "from pymycobot.mycobot280 import MyCobot280\n",
    "from pymycobot.genre import Angle, Coord"
   ]
  },
  {
   "cell_type": "code",
   "execution_count": null,
   "id": "030870aa-f2e9-41af-84b8-6ab975eb5145",
   "metadata": {},
   "outputs": [],
   "source": [
    "mc = MyCobot280('/dev/ttyJETCOBOT', 1000000)\n",
    "mc.thread_lock = True\n",
    "print(\"로봇이 연결되었습니다.\")"
   ]
  },
  {
   "cell_type": "code",
   "execution_count": null,
   "id": "cd86f12a-de53-4e34-bbdd-eeae0618527e",
   "metadata": {},
   "outputs": [],
   "source": [
    "# 현재 각도 읽기\n",
    "angles = mc.get_angles()\n",
    "print(\"현재 각도:\", angles)\n",
    "# 현재 좌표 읽기\n",
    "coords = mc.get_coords()\n",
    "print(\"현재 좌표:\", coords)"
   ]
  },
  {
   "cell_type": "code",
   "execution_count": null,
   "id": "ecb4a2e0-a6cb-4fd4-a21e-ba343a3f15b5",
   "metadata": {},
   "outputs": [],
   "source": [
    "# 모터 비활성화\n",
    "print(\"전체 모터를 비활성화합니다.\")\n",
    "mc.release_all_servos()\n",
    "time.sleep(1)"
   ]
  },
  {
   "cell_type": "code",
   "execution_count": null,
   "id": "00d97d28-6b6f-42c4-92dd-e97b2b3e0e04",
   "metadata": {},
   "outputs": [],
   "source": [
    "# 모터 활성화\n",
    "print(\"전체 모터를 활성화합니다.\")\n",
    "mc.focus_all_servos()\n",
    "time.sleep(1)"
   ]
  },
  {
   "cell_type": "code",
   "execution_count": null,
   "id": "57cb0749-1e6c-44f0-9cf2-8282200879bc",
   "metadata": {},
   "outputs": [],
   "source": [
    "initial_angles = [0, 0, 0, 0, 0, 0]\n",
    "speed = 50\n",
    "home = [87.71, -1.49, 0.7, -1.31, -88.15, 50.18]\n",
    "angle_point1 = [90.7, -2.81, 4.04, 87.53, 2.46, -46.23]\n",
    "angle_point2 = [90.61, -4.48, 4.48, 90.43, -37.7, -52.82]\n",
    "angle_point3 = [90.7, -5.53, 4.04, 91.4, 48.86, -46.93]\n",
    "\n",
    "mc.send_angles(initial_angles, speed)\n",
    "mc.set_gripper_value(100, speed) # 그리퍼 열기\n",
    "time.sleep(3) # 움직임이 완료될 때까지 대기"
   ]
  },
  {
   "cell_type": "code",
   "execution_count": null,
   "id": "88aee033-bf8c-431b-b453-e3f4e140cc7c",
   "metadata": {},
   "outputs": [],
   "source": [
    "# seobo photo coordinate(Sub Home)\n",
    "mc.send_angles(home, speed)\n",
    "mc.set_gripper_value(0, speed)"
   ]
  },
  {
   "cell_type": "code",
   "execution_count": null,
   "id": "13687aef-4eda-4097-80ce-a8edeb818c88",
   "metadata": {},
   "outputs": [],
   "source": [
    "# HI motion\n",
    "mc.send_angles(angle_point1, speed)\n",
    "mc.set_gripper_value(100, speed)\n",
    "\n",
    "for idx in range(3):\n",
    "    time.sleep(0.1)\n",
    "    mc.send_angles(angle_point2, speed)\n",
    "    time.sleep(0.1)\n",
    "    mc.send_angles(angle_point3, speed)"
   ]
  },
  {
   "cell_type": "code",
   "execution_count": null,
   "id": "498c6b1c-af96-4fa8-9223-ef1169b1330c",
   "metadata": {},
   "outputs": [],
   "source": []
  }
 ],
 "metadata": {
  "kernelspec": {
   "display_name": "Python 3 (ipykernel)",
   "language": "python",
   "name": "python3"
  },
  "language_info": {
   "codemirror_mode": {
    "name": "ipython",
    "version": 3
   },
   "file_extension": ".py",
   "mimetype": "text/x-python",
   "name": "python",
   "nbconvert_exporter": "python",
   "pygments_lexer": "ipython3",
   "version": "3.12.3"
  }
 },
 "nbformat": 4,
 "nbformat_minor": 5
}
