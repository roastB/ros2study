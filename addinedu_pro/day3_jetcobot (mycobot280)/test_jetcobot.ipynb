{
 "cells": [
  {
   "cell_type": "markdown",
   "id": "8d146527-9169-4ac3-8ab7-1ab0fd894230",
   "metadata": {},
   "source": [
    "### 필요한 라이브러리 Import"
   ]
  },
  {
   "cell_type": "code",
   "execution_count": null,
   "id": "0bbce4c9-423f-407c-be94-dceab06bf925",
   "metadata": {},
   "outputs": [],
   "source": [
    "import os\n",
    "import time\n",
    "import threading\n",
    "from pymycobot.mycobot280 import MyCobot280\n",
    "from pymycobot.genre import Angle, Coord"
   ]
  },
  {
   "cell_type": "markdown",
   "id": "e050b265-e67c-44a2-9c4f-9f9100d4f5e2",
   "metadata": {},
   "source": [
    "### 로봇 연결"
   ]
  },
  {
   "cell_type": "code",
   "execution_count": null,
   "id": "6593b77e-4039-4b92-9cdd-30c8039ff746",
   "metadata": {},
   "outputs": [],
   "source": [
    "mc = MyCobot280('/dev/ttyJETCOBOT', 1000000)\n",
    "mc.thread_lock = True\n",
    "print(\"로봇이 연결되었습니다.\")"
   ]
  },
  {
   "cell_type": "markdown",
   "id": "e8279d5e-365a-464b-9f87-e646db2ec87b",
   "metadata": {},
   "source": [
    "### 로봇의 현재 데이터 읽기 (가장 많이 쓸 코드!)"
   ]
  },
  {
   "cell_type": "code",
   "execution_count": null,
   "id": "eecd2927-605a-48f5-a14b-719877aa006f",
   "metadata": {},
   "outputs": [],
   "source": [
    "# 현재 각도 읽기\n",
    "angles = mc.get_angles()\n",
    "print(\"현재 각도:\", angles)\n",
    "# 현재 좌표 읽기\n",
    "coords = mc.get_coords()\n",
    "print(\"현재 좌표:\", coords)\n",
    "# 인코더 값 읽기\n",
    "encoders = mc.get_encoders()\n",
    "print(\"인코더:\", encoders)\n",
    "# 라디안 값 읽기\n",
    "radians = mc.get_radians()\n",
    "print(\"라디안:\", radians)"
   ]
  },
  {
   "cell_type": "markdown",
   "id": "94fdb4ec-8227-4253-ae29-bdf72727dc75",
   "metadata": {},
   "source": [
    "### 로봇을 초기위치로 이동(Home Pose)"
   ]
  },
  {
   "cell_type": "code",
   "execution_count": null,
   "id": "20ad4c7a-63ea-434d-8735-c98cc36f3721",
   "metadata": {},
   "outputs": [],
   "source": [
    "ANGLE_MIN = [-168, -135, -150, -145, -165, -180, 0]\n",
    "ANGLE_MAX = [168, 135, 150, 145, 165, 180, 100]\n",
    "\n",
    "for i in range(7):\n",
    "    print(f\"관절 {i+1}: {ANGLE_MIN[i]} ~ {ANGLE_MAX[i]}도\")"
   ]
  },
  {
   "cell_type": "markdown",
   "id": "2f39f4e0-1ebd-445d-9d29-e8ea47190e89",
   "metadata": {},
   "source": [
    "### 단일 관절 각도 움직이기 : send_angle(조인트 번호, 목표 각도, 속도)"
   ]
  },
  {
   "cell_type": "code",
   "execution_count": null,
   "id": "9a159dd1-7cba-4530-b9f9-39b6df91fb23",
   "metadata": {},
   "outputs": [],
   "source": [
    "# 로봇을 초기 위치로 리셋\n",
    "initial_angles = [0, 0, 0, 0, 0, 0]\n",
    "speed = 50\n",
    "\n",
    "print(\"로봇을 초기 위치로 리셋합니다.\")\n",
    "mc.send_angles(initial_angles, speed)\n",
    "mc.set_gripper_value(100, speed) # 그리퍼 열기\n",
    "time.sleep(3) # 움직임이 완료될 때까지 대기\n",
    "print(\"리셋 완료\")"
   ]
  },
  {
   "cell_type": "markdown",
   "id": "868bf5de-376a-4da8-b1be-ebd5c9b5e417",
   "metadata": {},
   "source": [
    "### 모든 관절 각도 움직이기 : send_angles(목표 각도 List, 속도)"
   ]
  },
  {
   "cell_type": "code",
   "execution_count": null,
   "id": "d3ea3e6b-801c-4261-b2a2-6180e4477d19",
   "metadata": {},
   "outputs": [],
   "source": [
    "# 모든 관절을 지정된 각도로 이동\n",
    "target_angles = [20, 20, -20, 20, 20, -45]\n",
    "speed = 50\n",
    "\n",
    "print(f\"모든 관절을 {target_angles}로 이동합니다.\")\n",
    "mc.send_angles(target_angles, speed)\n",
    "time.sleep(3) # 움직임이 완료될 때까지 대기\n",
    "# 초기 위치로 복귀\n",
    "print(\"초기 위치로 복귀합니다.\")\n",
    "mc.send_angles([0, 0, 0, 0, 0, 0], speed)\n",
    "time.sleep(3) # 움직임이 완료될 때까지 대기"
   ]
  },
  {
   "cell_type": "markdown",
   "id": "b02e22c3-8725-4088-b136-6a42f65e4965",
   "metadata": {},
   "source": [
    "### 좌표로 로봇 제어하기 : send_coords(목표 좌표 List, 속도, 모드) cf. coordinate=좌표"
   ]
  },
  {
   "cell_type": "code",
   "execution_count": null,
   "id": "cb59c6d9-6b37-4722-ba07-e32456c1d8fd",
   "metadata": {},
   "outputs": [],
   "source": [
    "# 현재 좌표 확인\n",
    "current_coords = mc.get_coords()\n",
    "print(\"현재 좌표:\", current_coords)\n",
    "\n",
    "# 1. 먼저 Z축을 낮추기\n",
    "work_coords = current_coords.copy()\n",
    "work_coords[2] -= 50 # Z를 50mm 내리기\n",
    "print(f\"Z축을 {work_coords[2]}로 내립니다.\")\n",
    "mc.send_coords(work_coords, 30, 0)\n",
    "time.sleep(2)\n",
    "\n",
    "# 2. X 좌표 이동\n",
    "x_coords = work_coords.copy()\n",
    "x_coords[0] += 20 # X + 20mm\n",
    "print(f\"X 좌표를 {x_coords[0]}로 이동합니다.\")\n",
    "mc.send_coords(x_coords, 30, 0)\n",
    "time.sleep(2)\n",
    "\n",
    "# 3. Y 좌표 이동\n",
    "y_coords = x_coords.copy()\n",
    "y_coords[1] -= 20 # Y - 20mm\n",
    "print(f\"Y 좌표를 {y_coords[1]}로 이동합니다.\")\n",
    "mc.send_coords(y_coords, 30, 0)\n",
    "time.sleep(2)\n",
    "\n",
    "# 4. 최종 좌표 확인\n",
    "final_coords = mc.get_coords()\n",
    "print(\"최종 좌표:\", final_coords)\n",
    "\n",
    "# 5. 초기 위치로 복귀\n",
    "print(\"초기 위치로 복귀합니다.\")\n",
    "mc.send_angles([0, 0, 0, 0, 0, 0], 50)\n",
    "time.sleep(3)\n",
    "print(\"초기 위치 복귀 완료\")"
   ]
  },
  {
   "cell_type": "markdown",
   "id": "4fd26fef-2a42-435c-ae9a-360f1e92c292",
   "metadata": {},
   "source": [
    "### 모든 좌표로 한번에 이동(Inverse kinematics)"
   ]
  },
  {
   "cell_type": "code",
   "execution_count": null,
   "id": "9dc99149-4d8e-4025-bc7e-acb34121b79f",
   "metadata": {},
   "outputs": [],
   "source": [
    "# 현재 좌표 확인\n",
    "current_coords = mc.get_coords()\n",
    "print(\"현재 좌표:\", current_coords)\n",
    "\n",
    "# 목표 좌표 설정 (현재에서 조금 변경)\n",
    "target_coords = current_coords.copy()\n",
    "target_coords[0] += 30 # X + 30mm\n",
    "target_coords[1] -= 30 # Y - 30mm\n",
    "target_coords[2] -= 50 # Z - 50mm\n",
    "print(f\"목표 좌표로 이동합니다: {target_coords}\")\n",
    "mc.send_coords(target_coords, 50, 0)\n",
    "time.sleep(3)\n",
    "\n",
    "# 초기 좌표로 복귀\n",
    "print(\"초기 위치로 복귀합니다.\")\n",
    "mc.send_angles([0, 0, 0, 0, 0, 0], 50)"
   ]
  },
  {
   "cell_type": "markdown",
   "id": "48a77de6-4421-4b66-88a1-80e019519292",
   "metadata": {},
   "source": [
    "### 그리퍼 제어"
   ]
  },
  {
   "cell_type": "code",
   "execution_count": null,
   "id": "cc6038bc-fe6d-493b-bc94-0cbf943c328f",
   "metadata": {},
   "outputs": [],
   "source": [
    "# 그리퍼 완전히 열기\n",
    "print(\"그리퍼를 완전히 엽니다.\")\n",
    "mc.set_gripper_value(100, 50)\n",
    "time.sleep(1)\n",
    "\n",
    "# 그리퍼 반쯤 닫기\n",
    "print(\"그리퍼를 반쯤 닫습니다.\")\n",
    "mc.set_gripper_value(50, 50)\n",
    "time.sleep(1)\n",
    "\n",
    "# 그리퍼 더 닫기\n",
    "print(\"그리퍼를 더 닫습니다.\")\n",
    "mc.set_gripper_value(30, 50)\n",
    "time.sleep(1)\n",
    "\n",
    "# 그리퍼 완전히 닫기\n",
    "print(\"그리퍼를 완전히 닫습니다.\")\n",
    "mc.set_gripper_value(0, 50)\n",
    "time.sleep(1)\n",
    "\n",
    "# 그리퍼 다시 열기\n",
    "print(\"그리퍼를 다시 엽니다.\")\n",
    "mc.set_gripper_value(100, 50)\n",
    "time.sleep(1)"
   ]
  },
  {
   "cell_type": "markdown",
   "id": "a671aa0a-a748-411b-ae94-b8ca88f0d17d",
   "metadata": {},
   "source": [
    "### 수동 조작 모드 (주의 : 실행전에 손으로 로봇을 잡고 시작해주세요.)"
   ]
  },
  {
   "cell_type": "code",
   "execution_count": null,
   "id": "a7993050-de6c-4d9b-93b1-7eea74ac3a9c",
   "metadata": {},
   "outputs": [],
   "source": [
    "# 모터 비활성화\n",
    "print(\"전체 모터를 비활성화합니다.\")\n",
    "mc.release_all_servos()\n",
    "time.sleep(1)"
   ]
  },
  {
   "cell_type": "markdown",
   "id": "3167d484-d749-4e26-80d4-7eb9ab4370b5",
   "metadata": {},
   "source": [
    "### 자동 조작 모드"
   ]
  },
  {
   "cell_type": "code",
   "execution_count": null,
   "id": "b6655a9b-634c-402e-88cd-ec5611386737",
   "metadata": {},
   "outputs": [],
   "source": [
    "# 모터 활성화\n",
    "print(\"전체 모터를 활성화합니다.\")\n",
    "mc.focus_all_servos()\n",
    "time.sleep(1)"
   ]
  },
  {
   "cell_type": "markdown",
   "id": "f5581d45-3efe-4595-afba-9ba696413387",
   "metadata": {},
   "source": [
    "#### https://github.com/elephantrobotics/pymycobot/blob/main/docs/MyCobot_280_en.md"
   ]
  },
  {
   "cell_type": "code",
   "execution_count": null,
   "id": "8f65bde4-fb5a-4901-baa9-95cd61d51380",
   "metadata": {},
   "outputs": [],
   "source": []
  }
 ],
 "metadata": {
  "kernelspec": {
   "display_name": "Python 3 (ipykernel)",
   "language": "python",
   "name": "python3"
  },
  "language_info": {
   "codemirror_mode": {
    "name": "ipython",
    "version": 3
   },
   "file_extension": ".py",
   "mimetype": "text/x-python",
   "name": "python",
   "nbconvert_exporter": "python",
   "pygments_lexer": "ipython3",
   "version": "3.12.3"
  }
 },
 "nbformat": 4,
 "nbformat_minor": 5
}
